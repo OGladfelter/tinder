{
 "cells": [
  {
   "cell_type": "markdown",
   "metadata": {},
   "source": [
    "# Tinder Data Extraction\n",
    "## Author: Oliver Gladfelter\n",
    "### 3/18/2020"
   ]
  },
  {
   "cell_type": "code",
   "execution_count": 3,
   "metadata": {},
   "outputs": [],
   "source": [
    "import pandas as pd\n",
    "import json\n",
    "import csv \n",
    "import os\n",
    "import datetime\n",
    "\n",
    "def dayOfWeek(date):\n",
    "    \"\"\"\n",
    "    Date is in YYYY-MM-DD format\n",
    "    \"\"\"\n",
    "    dateParts = date.split(\"-\")\n",
    "    return datetime.datetime(int(dateParts[0]), int(dateParts[1]), int(dateParts[2])).strftime('%A')\n",
    "\n",
    "def getTinderStats(path):\n",
    "    # open and save json file\n",
    "    with open(path, encoding=\"utf8\") as json_file:\n",
    "        data = json.load(json_file)\n",
    "\n",
    "    # save user info\n",
    "    gender = data[\"User\"][\"gender\"]\n",
    "    interested_in = data[\"User\"][\"interested_in\"]\n",
    "    age_filter_min = data[\"User\"][\"age_filter_min\"]\n",
    "    age_filter_max = data[\"User\"][\"age_filter_max\"]\n",
    "\n",
    "    # save swipe info\n",
    "    swipes_likes = data[\"Usage\"][\"swipes_likes\"]\n",
    "    swipes_passes = data[\"Usage\"][\"swipes_passes\"]\n",
    "    matches = data[\"Usage\"][\"matches\"]\n",
    "\n",
    "    df = pd.DataFrame([swipes_likes,swipes_passes,matches], index = [\"swipes_likes\", \"swipes_passes\", \"matches\"]).transpose().reset_index()\n",
    "\n",
    "    df['total_swipes'] = df['swipes_likes'] + df[\"swipes_passes\"]\n",
    "\n",
    "    # get summary totals\n",
    "    summaryTotals = df.sum()\n",
    "    swipes_likes = summaryTotals[1]  \n",
    "    swipes_passes = summaryTotals[2] \n",
    "    matches = summaryTotals[3] \n",
    "    total_swipes = summaryTotals[4] \n",
    "\n",
    "    # access number of matches messaged with\n",
    "    numMatchesMessagedWith = len(data[\"Messages\"])\n",
    "\n",
    "    # make df - only run if you want to OVERWRITE tinderStats.csv\n",
    "    # tinderStats = pd.DataFrame({'name': name, 'gender':[gender], 'interested_in':[interested_in], 'age_filter_min':[age_filter_min], 'age_filter_max':[age_filter_max], 'total_swipes':[total_swipes], 'swipes_likes':[swipes_likes], 'swipes_passes':[swipes_passes], 'matches':[matches], 'matchesMessagedWith':[numMatchesMessagedWith]})\n",
    "    # tinderStats.to_csv(\"tinderStats.csv\", index=False) \n",
    "    \n",
    "    # open tinderStats.csv and add row with tinder data\n",
    "    with open(r'tinderStats.csv', 'a', newline='') as csvfile:\n",
    "        fieldnames = ['gender', 'interested_in', 'age_filter_min', 'age_filter_max', 'total_swipes','swipes_likes', 'swipes_passes', 'matches', 'matchesMessagedWith']\n",
    "        writer = csv.DictWriter(csvfile, fieldnames=fieldnames)\n",
    "        writer.writerow({'gender':str(gender), 'interested_in':str(interested_in), 'age_filter_min':str(age_filter_min), 'age_filter_max':str(age_filter_max), 'total_swipes':str(total_swipes), 'swipes_likes':str(swipes_likes), 'swipes_passes':str(swipes_passes), 'matches':str(matches), 'matchesMessagedWith':str(numMatchesMessagedWith)})"
   ]
  },
  {
   "cell_type": "markdown",
   "metadata": {},
   "source": [
    "# Extract And Add Data To Existing CSV File"
   ]
  },
  {
   "cell_type": "code",
   "execution_count": 16,
   "metadata": {},
   "outputs": [],
   "source": [
    "for file in os.listdir(\"Friends Tinder Data\"):\n",
    "    getTinderStats(\"Friends Tinder Data/\" + file)"
   ]
  },
  {
   "cell_type": "markdown",
   "metadata": {},
   "source": [
    "# App Opens"
   ]
  },
  {
   "cell_type": "code",
   "execution_count": 34,
   "metadata": {},
   "outputs": [],
   "source": [
    "def app_opens(path):\n",
    "    # open and save json file\n",
    "    with open(path, encoding=\"utf8\") as json_file:\n",
    "        data = json.load(json_file)\n",
    "        \n",
    "    # convert app opens to df, convert dates to day of week,groupby day of week and sum\n",
    "    app_opens = pd.DataFrame([data[\"Usage\"][\"app_opens\"]], index=['app_opens']).transpose().reset_index()\n",
    "    app_opens['dayOfWeek'] = app_opens['index'].apply(dayOfWeek)\n",
    "    app_opens = app_opens.groupby('dayOfWeek').sum().sort_values('app_opens', ascending=False).reset_index()\n",
    "    \n",
    "    app_opens['name'] = data[\"User\"]['full_name']\n",
    "    app_opens[\"%\"] = app_opens[\"app_opens\"] / app_opens[\"app_opens\"].sum()\n",
    "    \n",
    "    return app_opens"
   ]
  },
  {
   "cell_type": "code",
   "execution_count": 35,
   "metadata": {},
   "source": [
    "# create empty df to fill in\n",
    "app_opens_df = pd.DataFrame({\"dayOfWeek\":[], \"app_opens\":[], \"name\":[]})\n",
    "\n",
    "# access each friend's data, add to df\n",
    "for file in os.listdir(\"Friends Tinder Data\"):\n",
    "    app_opens_df = pd.concat([app_opens_df,app_opens(\"Friends Tinder Data/\" + file)])"
   ]
  },
  {
   "cell_type": "code",
   "execution_count": 43,
   "metadata": {},
   "outputs": [
    {
     "data": {
      "text/html": [
       "<div>\n",
       "<style scoped>\n",
       "    .dataframe tbody tr th:only-of-type {\n",
       "        vertical-align: middle;\n",
       "    }\n",
       "\n",
       "    .dataframe tbody tr th {\n",
       "        vertical-align: top;\n",
       "    }\n",
       "\n",
       "    .dataframe thead th {\n",
       "        text-align: right;\n",
       "    }\n",
       "</style>\n",
       "<table border=\"1\" class=\"dataframe\">\n",
       "  <thead>\n",
       "    <tr style=\"text-align: right;\">\n",
       "      <th></th>\n",
       "      <th>%</th>\n",
       "      <th>app_opens</th>\n",
       "    </tr>\n",
       "    <tr>\n",
       "      <th>dayOfWeek</th>\n",
       "      <th></th>\n",
       "      <th></th>\n",
       "    </tr>\n",
       "  </thead>\n",
       "  <tbody>\n",
       "    <tr>\n",
       "      <td>Friday</td>\n",
       "      <td>1.553945</td>\n",
       "      <td>4037.0</td>\n",
       "    </tr>\n",
       "    <tr>\n",
       "      <td>Thursday</td>\n",
       "      <td>1.586133</td>\n",
       "      <td>3808.0</td>\n",
       "    </tr>\n",
       "    <tr>\n",
       "      <td>Wednesday</td>\n",
       "      <td>1.654730</td>\n",
       "      <td>3797.0</td>\n",
       "    </tr>\n",
       "    <tr>\n",
       "      <td>Saturday</td>\n",
       "      <td>1.681083</td>\n",
       "      <td>3949.0</td>\n",
       "    </tr>\n",
       "    <tr>\n",
       "      <td>Monday</td>\n",
       "      <td>1.756707</td>\n",
       "      <td>4292.0</td>\n",
       "    </tr>\n",
       "    <tr>\n",
       "      <td>Tuesday</td>\n",
       "      <td>1.762040</td>\n",
       "      <td>4186.0</td>\n",
       "    </tr>\n",
       "    <tr>\n",
       "      <td>Sunday</td>\n",
       "      <td>2.005362</td>\n",
       "      <td>4892.0</td>\n",
       "    </tr>\n",
       "  </tbody>\n",
       "</table>\n",
       "</div>"
      ],
      "text/plain": [
       "                  %  app_opens\n",
       "dayOfWeek                     \n",
       "Friday     1.553945     4037.0\n",
       "Thursday   1.586133     3808.0\n",
       "Wednesday  1.654730     3797.0\n",
       "Saturday   1.681083     3949.0\n",
       "Monday     1.756707     4292.0\n",
       "Tuesday    1.762040     4186.0\n",
       "Sunday     2.005362     4892.0"
      ]
     },
     "execution_count": 43,
     "metadata": {},
     "output_type": "execute_result"
    }
   ],
   "source": [
    "# determine most active day\n",
    "app_opens_df.groupby('dayOfWeek').sum().sort_values(\"%\")"
   ]
  }
 ],
 "metadata": {
  "kernelspec": {
   "display_name": "Python 3",
   "language": "python",
   "name": "python3"
  },
  "language_info": {
   "codemirror_mode": {
    "name": "ipython",
    "version": 3
   },
   "file_extension": ".py",
   "mimetype": "text/x-python",
   "name": "python",
   "nbconvert_exporter": "python",
   "pygments_lexer": "ipython3",
   "version": "3.7.4"
  }
 },
 "nbformat": 4,
 "nbformat_minor": 2
}
